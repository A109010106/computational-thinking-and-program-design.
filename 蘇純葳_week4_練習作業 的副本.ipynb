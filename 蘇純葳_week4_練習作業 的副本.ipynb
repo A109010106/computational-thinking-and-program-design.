{
  "nbformat": 4,
  "nbformat_minor": 0,
  "metadata": {
    "colab": {
      "name": "「 蘇純葳-week4-練習作業」的副本",
      "provenance": [],
      "authorship_tag": "ABX9TyPm6H86Vh2hpTq14GyyccTO",
      "include_colab_link": true
    },
    "kernelspec": {
      "name": "python3",
      "display_name": "Python 3"
    }
  },
  "cells": [
    {
      "cell_type": "markdown",
      "metadata": {
        "id": "view-in-github",
        "colab_type": "text"
      },
      "source": [
        "<a href=\"https://colab.research.google.com/github/A109010106/computational-thinking-and-program-design./blob/main/%E8%98%87%E7%B4%94%E8%91%B3_week4_%E7%B7%B4%E7%BF%92%E4%BD%9C%E6%A5%AD%20%E7%9A%84%E5%89%AF%E6%9C%AC.ipynb\" target=\"_parent\"><img src=\"https://colab.research.google.com/assets/colab-badge.svg\" alt=\"Open In Colab\"/></a>"
      ]
    },
    {
      "cell_type": "markdown",
      "metadata": {
        "id": "SMcbbxUHXbir"
      },
      "source": [
        "#隨堂練習"
      ]
    },
    {
      "cell_type": "code",
      "metadata": {
        "id": "weL_nZe0Xe-V"
      },
      "source": [
        "haha"
      ],
      "execution_count": null,
      "outputs": []
    },
    {
      "cell_type": "markdown",
      "metadata": {
        "id": "UWX2x0IKXibX"
      },
      "source": [
        "#課堂練習\r\n"
      ]
    },
    {
      "cell_type": "code",
      "metadata": {
        "id": "87ZQPqEIXnD4"
      },
      "source": [
        "1.https://technews.tw/2021/02/15/programming-language-becomes-a-technological-trend/\r\n",
        "2.此新聞在講述，自動化時代，軟硬整合很重要，程式語言能夠打破文字的隔閡，就算身處不同語言的家，也能使用共通的程式語言成為翻譯官。先今專業系所畢業的社會新鮮人，硬體方面都具備較佳能力，而程式語言及思辨\r\n",
        "正式競爭力的關鍵。"
      ],
      "execution_count": null,
      "outputs": []
    }
  ]
}